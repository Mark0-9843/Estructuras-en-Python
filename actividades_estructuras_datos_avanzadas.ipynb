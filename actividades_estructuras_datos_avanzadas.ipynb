{
 "cells": [
  {
   "cell_type": "markdown",
   "metadata": {},
   "source": [
    "# Actividades Avanzadas: Estructuras de Datos en Python\n",
    "\n",
    "Completa los ejercicios propuestos en cada sección para reforzar el uso de estructuras de datos en Python."
   ]
  },
  {
   "cell_type": "markdown",
   "metadata": {},
   "source": [
    "## 1. Tuplas (Datos Inmutables)\n",
    "Las tuplas son útiles cuando los datos no deben cambiar."
   ]
  },
  {
   "cell_type": "markdown",
   "metadata": {},
   "source": [
    "**Ejercicio 1:** Un sensor de presión tiene coeficientes de calibración definidos como una tupla `(a, b, c)`. Crea una tupla con valores hipotéticos y usa la ecuación `P = a*x^2 + b*x + c` para calcular la presión con un valor de entrada `x = 5`."
   ]
  },
  {
   "cell_type": "code",
   "execution_count": 17,
   "metadata": {},
   "outputs": [
    {
     "name": "stdout",
     "output_type": "stream",
     "text": [
      "La presión es 52\n"
     ]
    }
   ],
   "source": [
    "datos = (5,7,8)             #Se crea una lista de datos\n",
    "x = 5                       #Definimos variables\n",
    "a,b,c = datos               #Definimos variables\n",
    "P = a*x^2 + b*x + c         #Definimos variables\n",
    "print(\"La presión es\",P)    #Imprimimos el resultado"
   ]
  },
  {
   "cell_type": "markdown",
   "metadata": {},
   "source": [
    "**Ejercicio 2:** Dada una tupla con las configuraciones de un ADC (`(resolución_bits, voltaje_referencia)`), extrae los valores individuales y calcula el valor de un LSB (Least Significant Bit)."
   ]
  },
  {
   "cell_type": "code",
   "execution_count": 66,
   "metadata": {},
   "outputs": [
    {
     "name": "stdout",
     "output_type": "stream",
     "text": [
      "Resolucion: 10 bits\n",
      "Voltaje Referencia 5 V\n",
      "Valor de un LSB: 0.0048828125 V\n"
     ]
    }
   ],
   "source": [
    "adc_config = (10, 5)                                                                           #Creamos la tupla con los datos\n",
    "resolucion_bits, voltaje_referencia = adc_config                                               #Asignamos una variable a cada dato\n",
    "LSB = voltaje_referencia / (2**resolucion_bits)                                                #Calculamos el valor de un LSB\n",
    "print(f\"Resolucion: {resolucion_bits} bits\\nVoltaje Referencia {voltaje_referencia} V\")        #Imprimimos los valores individuales\n",
    "print(f\"Valor de un LSB: {LSB} V\")                                                             #Imprimimos el valor de un LSB"
   ]
  },
  {
   "cell_type": "markdown",
   "metadata": {},
   "source": [
    "## 2. Listas (Datos Dinámicos)\n",
    "Las listas permiten agregar, modificar y analizar datos."
   ]
  },
  {
   "cell_type": "markdown",
   "metadata": {},
   "source": [
    "**Ejercicio 3:** Simula la adquisición de 10 muestras de temperatura de un sensor, almacénalas en una lista y calcula el promedio de temperatura."
   ]
  },
  {
   "cell_type": "code",
   "execution_count": 8,
   "metadata": {},
   "outputs": [
    {
     "name": "stdout",
     "output_type": "stream",
     "text": [
      "Los datos son [22.3, 23.3, 24.3, 25.3, 26.3, 27.3, 28.3, 29.3, 30.3, 31.3]\n",
      "El promedio es 26.8\n"
     ]
    }
   ],
   "source": [
    "lista_temperatura=[]                                                      #Creamos una lista vacia para almacenar datos\n",
    "for i in range (0,10):                                                    #Creamos un ciclo para guardar datos rapidamente\n",
    "    lista_temperatura.append(22.3+i)                                      #Introducimos un dato a la lista\n",
    "print(f\"Los datos son {lista_temperatura}\")                               #Imprimimos la lista de datos\n",
    "print(\"El promedio es\", (sum(lista_temperatura)/len(lista_temperatura)))  #Imprimimos el promedio usando la función sum (suma de datos) y len (numero de datos)"
   ]
  },
  {
   "cell_type": "markdown",
   "metadata": {},
   "source": [
    "**Ejercicio 4:** Un sensor de corriente ha registrado valores anómalos. Filtra una lista de mediciones eliminando los valores fuera del rango `10 ≤ I ≤ 50`."
   ]
  },
  {
   "cell_type": "code",
   "execution_count": 13,
   "metadata": {},
   "outputs": [
    {
     "name": "stdout",
     "output_type": "stream",
     "text": [
      "[27, 34, 45, 23, 45, 39, 15]\n"
     ]
    }
   ],
   "source": [
    "valores=[27,34,56,45,9,23,45,39,78,15]         #Creamos una lista con los datos (pueden ser erroneos o no)\n",
    "valores_filtrados=[]                           #Creamos una lista para los datos filtrados\n",
    "for i in range (0,10):                         #Creamos un ciclo según la longitud de nuestra lista\n",
    "    if (valores[i]>=10 and valores[i]<=50):    #Ponemos condiciones para detectar datos erroneos\n",
    "        valores_filtrados.append(valores[i])   #Si el dato cumple las condiciones lo almacenamos en la lista de datos filtrados\n",
    "print(valores_filtrados)                       #Imprimos los datos filtrados"
   ]
  },
  {
   "cell_type": "markdown",
   "metadata": {},
   "source": [
    "## 3. Diccionarios (Asociación de Datos)\n",
    "Los diccionarios permiten organizar y acceder a datos etiquetados."
   ]
  },
  {
   "cell_type": "markdown",
   "metadata": {},
   "source": [
    "**Ejercicio 5:** Crea un diccionario para almacenar información de tres sensores (`nombre`, `ubicación`, `unidad_medida`). Luego, imprime los detalles de cada sensor."
   ]
  },
  {
   "cell_type": "code",
   "execution_count": 34,
   "metadata": {},
   "outputs": [
    {
     "name": "stdout",
     "output_type": "stream",
     "text": [
      "{'nombre': 'Sensor de temperatura', 'ubicación': 'Techo', 'unidad_medida': '°C'}\n",
      "{'nombre': 'Sensor de voltaje', 'ubicación': 'Cuarto', 'unidad_medida': 'V'}\n",
      "{'nombre': 'Sensor de corriente', 'ubicación': 'Poste', 'unidad_medida': 'A'}\n"
     ]
    }
   ],
   "source": [
    "sensores = {                                     #Creamos el diccionario con todos los sensores\n",
    "    \"sensor_1\": {                                #Creamos un diccionario secunadario dentro del diccionario principal llamado sensor_1\n",
    "        \"nombre\": \"Sensor de temperatura\",       #Ponemos el nombre del sensor\n",
    "        \"ubicación\": \"Techo\",                    #Ponemos la ubicación del sensor \n",
    "        \"unidad_medida\": \"°C\"                    #Ponemos la unidad de medida del sensor\n",
    "    },\n",
    "    \"sensor_2\": {                                #Creamos un diccionario secunadario dentro del diccionario principal llamado sensor_2\n",
    "        \"nombre\": \"Sensor de voltaje\",           #Ponemos el nombre del sensor\n",
    "        \"ubicación\": \"Cuarto\",                   #Ponemos la ubicación del sensor\n",
    "        \"unidad_medida\": \"V\"                     #Ponemos la unidad de medida del sensor\n",
    "    },\n",
    "    \"sensor_3\": {                                #Creamos un diccionario secunadario dentro del diccionario principal llamado sensor_3\n",
    "        \"nombre\": \"Sensor de corriente\",         #Ponemos el nombre del sensor\n",
    "        \"ubicación\": \"Poste\",                    #Ponemos la ubicación del sensor\n",
    "        \"unidad_medida\": \"A\"                     #Ponemos la unidad de medida del sensor\n",
    "    }\n",
    "}\n",
    "print(sensores[\"sensor_1\"])                      #Imprimimos los datos del sensor 1\n",
    "print(sensores[\"sensor_2\"])                      #Imprimimos los datos del sensor 2\n",
    "print(sensores[\"sensor_3\"])                      #Imprimimos los datos del sensor 3"
   ]
  },
  {
   "cell_type": "markdown",
   "metadata": {},
   "source": [
    "**Ejercicio 6:** Dado un diccionario con lecturas de temperatura en diferentes momentos `{\"10:00 AM\": 22.5, \"10:10 AM\": 23.1, \"10:20 AM\": 22.8}`, agrega una nueva lectura y encuentra la temperatura más alta registrada."
   ]
  },
  {
   "cell_type": "code",
   "execution_count": 46,
   "metadata": {},
   "outputs": [
    {
     "name": "stdout",
     "output_type": "stream",
     "text": [
      "Los datos actualizados son {'10:00 AN': 22.5, '10:10 AM': 23.1, '10:20 AM': 22.8, '10:30 AM': 22.9}\n",
      "La temperatura mas alta fue 23.1 a las 10:10 AM\n"
     ]
    }
   ],
   "source": [
    "temperatura = {                                                                                     #Creamos el diccionario \n",
    "    \"10:00 AN\": 22.5,                                                                               #Introducimos el valor en la hora 10:00 AM \n",
    "    \"10:10 AM\": 23.1,                                                                               #Introducimos el valor en la hora 10:30 AM\n",
    "    \"10:20 AM\": 22.8                                                                                #Introducimos el valor en la hora 10:20 AM\n",
    "}\n",
    "temperatura.update({\"10:30 AM\" : 22.9})                                                             #Introducimos un nuevo dato al diccionario        \n",
    "temperatura_maxima=max(temperatura,key=temperatura.get)                                             #Obtenemos el maximo dato usando max\n",
    "print(f\"Los datos actualizados son {temperatura}\")                                                  #Imprimimos todos los datos\n",
    "print(f\"La temperatura mas alta fue {temperatura[temperatura_maxima]} a las {temperatura_maxima}\")  #Imprimimos la temperatura mas alta"
   ]
  },
  {
   "cell_type": "markdown",
   "metadata": {},
   "source": [
    "## 4. Conjuntos (Eliminación de Duplicados)\n",
    "Los conjuntos son útiles para manejar datos únicos."
   ]
  },
  {
   "cell_type": "markdown",
   "metadata": {},
   "source": [
    "**Ejercicio 7:** Un sensor ha detectado eventos en un sistema eléctrico, pero algunos están duplicados. Usa un conjunto para mantener solo eventos únicos."
   ]
  },
  {
   "cell_type": "code",
   "execution_count": 50,
   "metadata": {},
   "outputs": [
    {
     "name": "stdout",
     "output_type": "stream",
     "text": [
      "Datos originales: [24, 27, 25, 24, 31, 29, 27, 34, 28, 29, 31]\n",
      "Datos filtradas: {34, 24, 25, 27, 28, 29, 31}\n"
     ]
    }
   ],
   "source": [
    "datos = [24, 27, 25, 24, 31, 29, 27, 34, 28, 29, 31]    #Creamos la lista de datos\n",
    "datos_unicos = set(datos)                               #Quitamos los datos duplicados convirtiendolo en un conjunto\n",
    "print(\"Datos originales:\", datos)                       #Imprimimos los datos originales\n",
    "print(\"Datos filtradas:\", datos_unicos)                 #Imprimimos los datos filtrados"
   ]
  },
  {
   "cell_type": "markdown",
   "metadata": {},
   "source": [
    "**Ejercicio 8:** Dados dos conjuntos con eventos detectados en dos sensores diferentes, encuentra qué eventos ocurrieron en ambos sensores."
   ]
  },
  {
   "cell_type": "code",
   "execution_count": 57,
   "metadata": {},
   "outputs": [
    {
     "name": "stdout",
     "output_type": "stream",
     "text": [
      "Los datos que ocurren en ambos sensores son {27, 29}\n"
     ]
    }
   ],
   "source": [
    "datos_1 = [34, 24, 25, 27, 28, 29, 31]                                          #Creamos la primera lista de datos \n",
    "datos_2 = [87, 65, 27, 45, 29, 61, 30]                                          #Creamos la segunda lista de datos\n",
    "conjunto_1 = set(datos_1)                                                       #Convertimos a conjunto la primera lista\n",
    "conjunto_2 = set(datos_2)                                                       #Convertimos a conjunto la segunda lista\n",
    "datos_coincidentes = conjunto_1 & conjunto_2                                    #Sacamos la intersección de ambos conjuntos\n",
    "print(f\"Los datos que ocurren en ambos sensores son {datos_coincidentes}\")      #Imprimimos la intersección"
   ]
  },
  {
   "cell_type": "code",
   "execution_count": null,
   "metadata": {},
   "outputs": [],
   "source": []
  }
 ],
 "metadata": {
  "kernelspec": {
   "display_name": "Python 3 (ipykernel)",
   "language": "python",
   "name": "python3"
  },
  "language_info": {
   "codemirror_mode": {
    "name": "ipython",
    "version": 3
   },
   "file_extension": ".py",
   "mimetype": "text/x-python",
   "name": "python",
   "nbconvert_exporter": "python",
   "pygments_lexer": "ipython3",
   "version": "3.13.2"
  }
 },
 "nbformat": 4,
 "nbformat_minor": 4
}
